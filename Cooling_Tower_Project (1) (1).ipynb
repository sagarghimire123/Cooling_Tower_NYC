{
  "nbformat": 4,
  "nbformat_minor": 0,
  "metadata": {
    "colab": {
      "name": "Cooling_Tower_Project.ipynb",
      "provenance": [],
      "collapsed_sections": []
    },
    "kernelspec": {
      "name": "python3",
      "display_name": "Python 3"
    },
    "language_info": {
      "name": "python"
    }
  },
  "cells": [
    {
      "cell_type": "code",
      "execution_count": null,
      "metadata": {
        "id": "1d8R88J93voP"
      },
      "outputs": [],
      "source": [
        "# importing pandas and numpy libraries to import datset and creat data frames and pivot tables\n",
        "import pandas as pd\n",
        "import numpy as np"
      ]
    },
    {
      "cell_type": "code",
      "source": [
        "##Importing datset from google drive with downloadble link.\n",
        "file_path=\"https://drive.google.com/uc?export=download&id=1Igfusg_uVIzIXWJ1OlR62uYn2I1h2PsA\"\n",
        "## Creating dataframe for the cooling tower.\n",
        "df=pd.read_csv(file_path)"
      ],
      "metadata": {
        "id": "h6_tuOin4MRS"
      },
      "execution_count": null,
      "outputs": []
    },
    {
      "cell_type": "code",
      "source": [
        "# Name of the datset is df.\n",
        "df.tail(2)"
      ],
      "metadata": {
        "id": "CtEJTJVW4rYI"
      },
      "execution_count": null,
      "outputs": []
    },
    {
      "cell_type": "code",
      "source": [
        "## Checking length of data set\n",
        "print(\"The length of dataset is\",len(df),\".\")"
      ],
      "metadata": {
        "id": "AH5xgLjF5SPV"
      },
      "execution_count": null,
      "outputs": []
    },
    {
      "cell_type": "code",
      "source": [
        "## Dropping the rows withg missing and NaN values.\n",
        "dff=df.dropna()"
      ],
      "metadata": {
        "id": "28cvl62j8Hmq"
      },
      "execution_count": null,
      "outputs": []
    },
    {
      "cell_type": "code",
      "source": [
        "## New datset with dropped values\n",
        "dff.tail(2)"
      ],
      "metadata": {
        "id": "7quMQ54R8rMw"
      },
      "execution_count": null,
      "outputs": []
    },
    {
      "cell_type": "code",
      "source": [
        "## Checking the length of datset after dropping missing value's rows.\n",
        "len(dff)"
      ],
      "metadata": {
        "id": "h41Xevdv8hvy"
      },
      "execution_count": null,
      "outputs": []
    },
    {
      "cell_type": "markdown",
      "source": [
        "Note:\n",
        "\n",
        "The above dropping conclude that most of the values in the data set were missing which is very serious concern. Proper record is necessay for all the cooling tower, because it is related to DOHMH and public health. We have to process our furthur exploration with the new datset with length 1446."
      ],
      "metadata": {
        "id": "b1_neHcw8wqV"
      }
    },
    {
      "cell_type": "code",
      "source": [
        ""
      ],
      "metadata": {
        "id": "P7IrB5rj8wM5"
      },
      "execution_count": null,
      "outputs": []
    },
    {
      "cell_type": "code",
      "source": [
        "## Finding the intended use of cooling tower in NYC.\n",
        "dff[\"Intended_Use\"].unique()"
      ],
      "metadata": {
        "id": "gnNLn6bk5oSg"
      },
      "execution_count": null,
      "outputs": []
    },
    {
      "cell_type": "markdown",
      "source": [
        "Q.N 1 (Answer)\n",
        "\n",
        "From the data set we find that the cooling towers are use for: \n",
        "\n",
        "1.Air Conditining\n",
        "\n",
        "2.Base Building HVAC\n",
        "\n",
        "3.Condensate water\n",
        "\n",
        "4.Refrigration.\n"
      ],
      "metadata": {
        "id": "Mg8U-jGa6Tw4"
      }
    },
    {
      "cell_type": "code",
      "source": [
        ""
      ],
      "metadata": {
        "id": "ohFMORad64KR"
      },
      "execution_count": null,
      "outputs": []
    },
    {
      "cell_type": "markdown",
      "source": [
        "Q.N 2\n",
        "\n",
        "The makes of the cooling tower machines are displayed using pivot table with their counts for the reduced datas set."
      ],
      "metadata": {
        "id": "JOhUxYxHDU9g"
      }
    },
    {
      "cell_type": "code",
      "source": [
        ""
      ],
      "metadata": {
        "id": "sI4DFPUGCn98"
      },
      "execution_count": null,
      "outputs": []
    },
    {
      "cell_type": "code",
      "source": [
        "#CReating pivot table for count of differnet Make of tower.\n",
        "Make=dff.pivot_table(values=\"NYC_Cooling_Tower_ID\", index=\"Make\", aggfunc=\"count\")\n",
        "Make"
      ],
      "metadata": {
        "id": "3cna0j-77D4L"
      },
      "execution_count": null,
      "outputs": []
    },
    {
      "cell_type": "code",
      "source": [
        ""
      ],
      "metadata": {
        "id": "pGJGtsoB-W2v"
      },
      "execution_count": null,
      "outputs": []
    },
    {
      "cell_type": "code",
      "source": [
        "## Creating pivot table for Cooling capacity units count.\n",
        "ccu=dff.pivot_table(values=\"NYC_Cooling_Tower_ID\", index=\"Cooling_Capacity_Units\", aggfunc=\"count\")"
      ],
      "metadata": {
        "id": "6aozinguMztg"
      },
      "execution_count": null,
      "outputs": []
    },
    {
      "cell_type": "code",
      "source": [
        "ccu"
      ],
      "metadata": {
        "id": "8voPZ5_YM-Sd"
      },
      "execution_count": null,
      "outputs": []
    },
    {
      "cell_type": "markdown",
      "source": [
        "Q.N 3 (Answer)\n",
        "\n",
        "The different units of cooling capacity used are:\n",
        "1. BTU/HR\n",
        "2. CFM\n",
        "3. REFRIGERATION TONS"
      ],
      "metadata": {
        "id": "Tm_8kflGNE50"
      }
    },
    {
      "cell_type": "code",
      "source": [
        ""
      ],
      "metadata": {
        "id": "aY1WxTSPNDbR"
      },
      "execution_count": null,
      "outputs": []
    },
    {
      "cell_type": "markdown",
      "source": [
        "Q.N 4\n",
        "Plotting the different Make used in cooling tower using the bar chart with their counts."
      ],
      "metadata": {
        "id": "IrBnmW2QNiee"
      }
    },
    {
      "cell_type": "code",
      "source": [
        "\n",
        "Make.plot.bar(figsize=(30,7))"
      ],
      "metadata": {
        "id": "cf-nGLcNNeFx"
      },
      "execution_count": null,
      "outputs": []
    },
    {
      "cell_type": "code",
      "source": [
        ""
      ],
      "metadata": {
        "id": "5mhf2PcLO4lz"
      },
      "execution_count": null,
      "outputs": []
    },
    {
      "cell_type": "markdown",
      "source": [
        "Q.N 5\n",
        "Draw bar chart and pie chart using intended use of cooling machine."
      ],
      "metadata": {
        "id": "8LOaoHXTQHIr"
      }
    },
    {
      "cell_type": "code",
      "source": [
        ""
      ],
      "metadata": {
        "id": "bnklAwmaQF5Z"
      },
      "execution_count": null,
      "outputs": []
    },
    {
      "cell_type": "code",
      "source": [
        "##Creating data frame for intended use count using ID.\n",
        "Use=df.pivot_table(values=\"NYC_Cooling_Tower_ID\", index=\"Intended_Use\",aggfunc=\"count\")\n",
        "Use"
      ],
      "metadata": {
        "id": "LoqbjGvTO5El"
      },
      "execution_count": null,
      "outputs": []
    },
    {
      "cell_type": "code",
      "source": [
        "#Plotting bar chart for intended use count for total machines.\n",
        "Use.plot.bar()"
      ],
      "metadata": {
        "id": "pIo--LtuPjGd"
      },
      "execution_count": null,
      "outputs": []
    },
    {
      "cell_type": "code",
      "source": [
        "#Plotting pie chart for intended use count for total machines.\n",
        "Use.plot(kind=\"pie\",y=\"NYC_Cooling_Tower_ID\",figsize=(10,10))"
      ],
      "metadata": {
        "id": "ylLWG45TPlz2"
      },
      "execution_count": null,
      "outputs": []
    },
    {
      "cell_type": "code",
      "source": [
        ""
      ],
      "metadata": {
        "id": "tqfRLMiOQDFV"
      },
      "execution_count": null,
      "outputs": []
    },
    {
      "cell_type": "markdown",
      "source": [
        "Q.N 6\n",
        "plotting map of NYC with original and reduced data set to see the difference"
      ],
      "metadata": {
        "id": "tW5vFaCIQXGU"
      }
    },
    {
      "cell_type": "code",
      "source": [
        "## importing the required libraries to plot map an scattor plot\n",
        "%matplotlib inline\n",
        "import matplotlib\n",
        "import matplotlib.pyplot as plt\n",
        "from matplotlib.pylab import rcParams\n",
        "%config InlineBackend.figure_format = 'retina'"
      ],
      "metadata": {
        "id": "-SoHMBtaQTd7"
      },
      "execution_count": null,
      "outputs": []
    },
    {
      "cell_type": "code",
      "source": [
        "# Original dataset\n",
        "df.plot(figsize=(10, 10),kind=\"scatter\",y=\"Latitude\", x=\"Longitude\")\n",
        "plt.show()"
      ],
      "metadata": {
        "id": "maA6anUEQra2"
      },
      "execution_count": null,
      "outputs": []
    },
    {
      "cell_type": "code",
      "source": [
        "## reduced data set\n",
        "dff.plot(figsize=(10, 10),kind=\"scatter\",y=\"Latitude\", x=\"Longitude\")\n",
        "plt.show()"
      ],
      "metadata": {
        "id": "nukSwRJWQ2Q1"
      },
      "execution_count": null,
      "outputs": []
    },
    {
      "cell_type": "markdown",
      "source": [
        ""
      ],
      "metadata": {
        "id": "T2PEjG14RWmq"
      }
    },
    {
      "cell_type": "markdown",
      "source": [
        "note:\n",
        "\n",
        "The original dataset has the dense scattor dots whereas reduced data set is very light, we can conclude that missing values cause data to loose many of the important information of different locations."
      ],
      "metadata": {
        "id": "jaiaCD4qQ-rn"
      }
    },
    {
      "cell_type": "code",
      "source": [
        "##Printing the data frame.\n",
        "dff"
      ],
      "metadata": {
        "id": "VGdrQSDLQ94U"
      },
      "execution_count": null,
      "outputs": []
    },
    {
      "cell_type": "markdown",
      "source": [
        "Q.N 7\n",
        "\n",
        "creating pivot table for borough and number of cooling towers and counting value using bar graph."
      ],
      "metadata": {
        "id": "KcpM_2husE9N"
      }
    },
    {
      "cell_type": "code",
      "source": [
        "##Creating pivot table to count number of cooling towers in each borough and plotting graph.\n",
        "borough=dff.pivot_table(values=\"NYC_Cooling_Tower_ID\",index=\"Borough\", aggfunc=\"count\")\n",
        "borough"
      ],
      "metadata": {
        "id": "IGhG_Q1drEE1"
      },
      "execution_count": null,
      "outputs": []
    },
    {
      "cell_type": "code",
      "source": [
        "borough.plot.bar(figsize=(9,5))"
      ],
      "metadata": {
        "id": "k3icEhhSrXRu"
      },
      "execution_count": null,
      "outputs": []
    },
    {
      "cell_type": "markdown",
      "source": [
        "Q.N 8\n",
        "Plotting time series."
      ],
      "metadata": {
        "id": "0EJRXAXhSVIo"
      }
    },
    {
      "cell_type": "code",
      "source": [
        ""
      ],
      "metadata": {
        "id": "dTnrp33hsUyB"
      },
      "execution_count": null,
      "outputs": []
    },
    {
      "cell_type": "code",
      "source": [
        "# Processing data for time series analysis to convert date into datetime formate.\n",
        "dff[\"Date_Registered\"]=pd.to_datetime(dff[\"Date_Registered\"])"
      ],
      "metadata": {
        "id": "unsItr2jWoS7"
      },
      "execution_count": null,
      "outputs": []
    },
    {
      "cell_type": "code",
      "source": [
        "# Checking data type after conversion in date time.\n",
        "dff.dtypes"
      ],
      "metadata": {
        "id": "iCTFlJtSs0Nv"
      },
      "execution_count": null,
      "outputs": []
    },
    {
      "cell_type": "code",
      "source": [
        "# Creating pivot table Borough and date register to count the cooling tower register on paticular date on each borough.\n",
        "aa=dff.pivot_table(index=\"Date_Registered\", values=\"NYC_Cooling_Tower_ID\", columns=\"Borough\",aggfunc=\"count\")"
      ],
      "metadata": {
        "id": "GhnbZq_2g0cH"
      },
      "execution_count": null,
      "outputs": []
    },
    {
      "cell_type": "code",
      "source": [
        "##Filling the NaN value as 0.\n",
        "ccc=(aa.fillna(0))\n",
        "ccc.head(1)\n"
      ],
      "metadata": {
        "id": "ER1IViPThdYE"
      },
      "execution_count": null,
      "outputs": []
    },
    {
      "cell_type": "code",
      "source": [
        ""
      ],
      "metadata": {
        "id": "CVUG6KYsoveY"
      },
      "execution_count": null,
      "outputs": []
    },
    {
      "cell_type": "code",
      "source": [
        "# Setting the time range\n",
        "dd=(ccc[\"2015-08-01\":\"2015-12-31\"])"
      ],
      "metadata": {
        "id": "KIiFcR6Lg0Zn"
      },
      "execution_count": null,
      "outputs": []
    },
    {
      "cell_type": "code",
      "source": [
        "##Plotting the time series \n",
        "dd.plot(figsize=(10,10))"
      ],
      "metadata": {
        "id": "Bozp-jGHY6D4"
      },
      "execution_count": null,
      "outputs": []
    },
    {
      "cell_type": "markdown",
      "source": [
        " Conclusion:\n",
        " \n",
        " The above time series graph shows that manhattan has always highest number of registration from 2015-08-22 to 2015-12-22, \n",
        "which i geuss is the main city and many business and dense population might be the reason  and  and the staten island \n",
        "had the least registration.Brooklyn has the second highest registration duirng that period."
      ],
      "metadata": {
        "id": "eXGbBqSpzW1i"
      }
    },
    {
      "cell_type": "code",
      "source": [
        ""
      ],
      "metadata": {
        "id": "Oltnmuo8vbTL"
      },
      "execution_count": null,
      "outputs": []
    },
    {
      "cell_type": "code",
      "source": [
        "## CReating a pivot table for Date registered and Intended to count registration of paticular type of cooling tower.\n",
        "bbb=dff.pivot_table(index=\"Date_Registered\", values=\"NYC_Cooling_Tower_ID\", columns=\"Intended_Use\",aggfunc=\"count\")"
      ],
      "metadata": {
        "id": "OKvnkg5NvpcZ"
      },
      "execution_count": null,
      "outputs": []
    },
    {
      "cell_type": "code",
      "source": [
        "#Replacing the NaN value with 0.\n",
        "bb1=bbb.fillna(0)"
      ],
      "metadata": {
        "id": "ow87-jfKvvUn"
      },
      "execution_count": null,
      "outputs": []
    },
    {
      "cell_type": "code",
      "source": [
        "# Setting the range for the time series.\n",
        "gg=bb1[\"2017-09-01\":\"2018-01-30\"]\n",
        "gg.tail(2)"
      ],
      "metadata": {
        "id": "kBNTnqa3v4kx"
      },
      "execution_count": null,
      "outputs": []
    },
    {
      "cell_type": "code",
      "source": [
        "## Plotting the time series.\n",
        "gg.plot(figsize=(10,10))"
      ],
      "metadata": {
        "id": "Gy2DggKFwIk1"
      },
      "execution_count": null,
      "outputs": []
    },
    {
      "cell_type": "markdown",
      "source": [
        "Conclusion:\n",
        "\n",
        "The above time series show that the registration of Air conditioning cooler tower was high from 2017-09 to 2017-11 and than small decline and the refrigration cooling tower were registered mostly in 2017-12 to 2018-01."
      ],
      "metadata": {
        "id": "RY4SWaXb0AI3"
      }
    },
    {
      "cell_type": "code",
      "source": [
        ""
      ],
      "metadata": {
        "id": "s_TXwud0oIwY"
      },
      "execution_count": null,
      "outputs": []
    },
    {
      "cell_type": "code",
      "source": [
        ""
      ],
      "metadata": {
        "id": "XHQktWqllg5r"
      },
      "execution_count": null,
      "outputs": []
    },
    {
      "cell_type": "markdown",
      "source": [
        "Q.N.9\n",
        "Plotting the NYC map using foliuma and displaying the all the infomration of cooling towers using marker."
      ],
      "metadata": {
        "id": "4i4vQKY0RgJC"
      }
    },
    {
      "cell_type": "code",
      "source": [
        "## importing required library for map\n",
        "import folium"
      ],
      "metadata": {
        "id": "_vYKcVo4Ra6i"
      },
      "execution_count": null,
      "outputs": []
    },
    {
      "cell_type": "code",
      "source": [
        "map=folium.Map(width=1500,height=1000,location=[dff[\"Latitude\"].mean(),\n",
        "                         dff[\"Longitude\"].mean()],\n",
        "               zoom_start=13, control_scale=True)"
      ],
      "metadata": {
        "id": "bRtJ9yF2R2sy"
      },
      "execution_count": null,
      "outputs": []
    },
    {
      "cell_type": "code",
      "source": [
        "for index, location_info in dff.iterrows():\n",
        "    folium.Marker([location_info[\"Latitude\"], location_info[\"Longitude\"]], popup=\"Address: \"+location_info[\"Address\"]+\"\\nMOdel: \"+location_info[\"Model\"]+\"\\nMake: \"+\n",
        "                  location_info[\"Make\"]+\"\\n\"+\"\\nS.N: \"+location_info[\"Serial_Number\"]+\"\\n\"+\"\\nC.capacity: \"+location_info[\"Cooling_Capacity\"]+\"\\n\"+\"C.C.units: \"\n",
        "                  +location_info[\"Cooling_Capacity_Units\"]+\"\\n\"+\"\\t\\n\"+\"\\nIntended Use: \"+location_info[\"Intended_Use\"]).add_to(map)"
      ],
      "metadata": {
        "id": "3qysKj0qR_AM"
      },
      "execution_count": null,
      "outputs": []
    },
    {
      "cell_type": "code",
      "source": [
        "map"
      ],
      "metadata": {
        "id": "fcHlgdM7SFlA"
      },
      "execution_count": null,
      "outputs": []
    },
    {
      "cell_type": "code",
      "source": [
        ""
      ],
      "metadata": {
        "id": "QaxOW5V_RuxO"
      },
      "execution_count": null,
      "outputs": []
    },
    {
      "cell_type": "code",
      "source": [
        "#########################################THE END########################################"
      ],
      "metadata": {
        "id": "ATK7wZQBEIwW"
      },
      "execution_count": null,
      "outputs": []
    }
  ]
}